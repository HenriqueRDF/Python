{
  "nbformat": 4,
  "nbformat_minor": 0,
  "metadata": {
    "colab": {
      "provenance": []
    },
    "kernelspec": {
      "name": "python3",
      "display_name": "Python 3"
    },
    "language_info": {
      "name": "python"
    }
  },
  "cells": [
    {
      "cell_type": "markdown",
      "source": [
        "# Imports Necessários"
      ],
      "metadata": {
        "id": "ixzxIERpQjpr"
      }
    },
    {
      "cell_type": "code",
      "execution_count": 1,
      "metadata": {
        "id": "1eggeeQzP75R"
      },
      "outputs": [],
      "source": [
        "# Imports para Manipulação e Álgebra Linear\n",
        "import numpy as np\n",
        "import pandas as pd\n",
        "\n",
        "# Imports para Carga do Dataset Kaggle (Seção 2)\n",
        "import kagglehub\n",
        "from kagglehub import KaggleDatasetAdapter\n",
        "\n",
        "# Imports para Pré-processamento e Machine Learning\n",
        "from sklearn.model_selection import train_test_split\n",
        "from sklearn.preprocessing import StandardScaler\n",
        "from sklearn.linear_model import LinearRegression\n",
        "from sklearn.metrics import mean_squared_error, r2_score\n",
        "\n",
        "# Imports para PCA\n",
        "from sklearn.decomposition import PCA\n",
        "\n",
        "# Imports para Visualização\n",
        "import matplotlib.pyplot as plt\n",
        "import seaborn as sns\n",
        "\n",
        "# Configuração opcional para visualização\n",
        "sns.set_style(\"whitegrid\")\n",
        "plt.rcParams['figure.figsize'] = (10, 6)"
      ]
    },
    {
      "cell_type": "markdown",
      "source": [
        "# Carregamento do Dataset"
      ],
      "metadata": {
        "id": "Zym-ty9hQmFJ"
      }
    },
    {
      "cell_type": "code",
      "source": [
        "# Set the path to the file you'd like to load\n",
        "# O nome do arquivo no dataset 'harlfoxem/housesalesprediction' é 'kc_house_data.csv'\n",
        "file_path = \"kc_house_data.csv\"\n",
        "\n",
        "# Load the latest version\n",
        "try:\n",
        "    df = kagglehub.load_dataset(\n",
        "        KaggleDatasetAdapter.PANDAS,\n",
        "        \"harlfoxem/housesalesprediction\",\n",
        "        file_path,\n",
        "        # pandas_kwargs={'encoding': 'utf8'} # Opcional, se houver problemas de codificação\n",
        "    )\n",
        "    print(f\"Dataset carregado com sucesso. Linhas: {df.shape[0]}, Colunas: {df.shape[1]}\")\n",
        "    print(\"\\nPrimeiros 5 registros:\")\n",
        "    print(df.head())\n",
        "\n",
        "except Exception as e:\n",
        "    print(f\"Erro ao carregar o dataset. Verifique sua autenticação no Kaggle e o nome do arquivo/dataset. Erro: {e}\")"
      ],
      "metadata": {
        "colab": {
          "base_uri": "https://localhost:8080/"
        },
        "id": "ZK6_LJegQoB2",
        "outputId": "b8b3d0f5-7311-4554-e192-32294baeb1b3"
      },
      "execution_count": 2,
      "outputs": [
        {
          "output_type": "stream",
          "name": "stderr",
          "text": [
            "/tmp/ipython-input-2958290984.py:7: DeprecationWarning: Use dataset_load() instead of load_dataset(). load_dataset() will be removed in a future version.\n",
            "  df = kagglehub.load_dataset(\n"
          ]
        },
        {
          "output_type": "stream",
          "name": "stdout",
          "text": [
            "Using Colab cache for faster access to the 'housesalesprediction' dataset.\n",
            "Dataset carregado com sucesso. Linhas: 21613, Colunas: 21\n",
            "\n",
            "Primeiros 5 registros:\n",
            "           id             date     price  bedrooms  bathrooms  sqft_living  \\\n",
            "0  7129300520  20141013T000000  221900.0         3       1.00         1180   \n",
            "1  6414100192  20141209T000000  538000.0         3       2.25         2570   \n",
            "2  5631500400  20150225T000000  180000.0         2       1.00          770   \n",
            "3  2487200875  20141209T000000  604000.0         4       3.00         1960   \n",
            "4  1954400510  20150218T000000  510000.0         3       2.00         1680   \n",
            "\n",
            "   sqft_lot  floors  waterfront  view  ...  grade  sqft_above  sqft_basement  \\\n",
            "0      5650     1.0           0     0  ...      7        1180              0   \n",
            "1      7242     2.0           0     0  ...      7        2170            400   \n",
            "2     10000     1.0           0     0  ...      6         770              0   \n",
            "3      5000     1.0           0     0  ...      7        1050            910   \n",
            "4      8080     1.0           0     0  ...      8        1680              0   \n",
            "\n",
            "   yr_built  yr_renovated  zipcode      lat     long  sqft_living15  \\\n",
            "0      1955             0    98178  47.5112 -122.257           1340   \n",
            "1      1951          1991    98125  47.7210 -122.319           1690   \n",
            "2      1933             0    98028  47.7379 -122.233           2720   \n",
            "3      1965             0    98136  47.5208 -122.393           1360   \n",
            "4      1987             0    98074  47.6168 -122.045           1800   \n",
            "\n",
            "   sqft_lot15  \n",
            "0        5650  \n",
            "1        7639  \n",
            "2        8062  \n",
            "3        5000  \n",
            "4        7503  \n",
            "\n",
            "[5 rows x 21 columns]\n"
          ]
        }
      ]
    },
    {
      "cell_type": "markdown",
      "source": [
        "# Limpeza de Dados e Engenharia de Features"
      ],
      "metadata": {
        "id": "6ylLXpU1Qygc"
      }
    },
    {
      "cell_type": "code",
      "source": [
        "# 1. Remover colunas irrelevantes para a modelagem: 'id'\n",
        "# A coluna 'date' precisa ser tratada para extrair dados úteis.\n",
        "df_clean = df.drop(columns=['id'])\n",
        "\n",
        "# 2. Tratamento da coluna 'date'\n",
        "# A coluna 'date' está no formato yyyymmddT000000. Vamos extrair apenas o ano e o mês,\n",
        "# ou o ano da venda, pois a data exata não deve ser um preditor forte e a string\n",
        "# completa prejudicaria a modelagem.\n",
        "\n",
        "# Converter a coluna 'date' para o tipo string, se já não for\n",
        "df_clean['date'] = df_clean['date'].astype(str)\n",
        "\n",
        "# Extrair apenas o ano da venda (os dados são de 2014 e 2015, o que é relevante)\n",
        "df_clean['sale_year'] = df_clean['date'].apply(lambda x: int(x[:4]))\n",
        "\n",
        "# Remover a coluna 'date' original, pois já extraímos a informação relevante\n",
        "df_clean = df_clean.drop(columns=['date'])\n",
        "\n",
        "# 3. Análise da Coluna 'zipcode'\n",
        "# 'zipcode' é uma variável categórica (código postal), mas está como número.\n",
        "# Para evitar que o modelo trate como uma variável ordinal (onde 98001 é 'maior' que 98000),\n",
        "# ela deveria ser transformada em variáveis dummy/one-hot, o que aumentará a dimensionalidade.\n",
        "# No entanto, como o foco é no PCA, vamos mantê-la como numérica, mas é uma simplificação\n",
        "# que eu faria diferente em um projeto de ML sem foco em PCA.\n",
        "\n",
        "# Para simplificar o PCA, vamos converter algumas colunas ordinais em tipo float/int, se não estiverem:\n",
        "ordinal_cols = ['floors', 'view', 'condition', 'grade']\n",
        "for col in ordinal_cols:\n",
        "    df_clean[col] = df_clean[col].astype(float)\n",
        "\n",
        "\n",
        "# 4. Exibir a situação das colunas\n",
        "print(\"Informações do DataFrame após a limpeza inicial:\")\n",
        "print(df_clean.info())\n",
        "print(\"\\nPrimeiras linhas após o tratamento da data:\")\n",
        "print(df_clean.head())"
      ],
      "metadata": {
        "colab": {
          "base_uri": "https://localhost:8080/"
        },
        "id": "HrIzA73nQz3V",
        "outputId": "297e8a36-07c9-43a4-ab15-8a15ff37ff1b"
      },
      "execution_count": 4,
      "outputs": [
        {
          "output_type": "stream",
          "name": "stdout",
          "text": [
            "Informações do DataFrame após a limpeza inicial:\n",
            "<class 'pandas.core.frame.DataFrame'>\n",
            "RangeIndex: 21613 entries, 0 to 21612\n",
            "Data columns (total 20 columns):\n",
            " #   Column         Non-Null Count  Dtype  \n",
            "---  ------         --------------  -----  \n",
            " 0   price          21613 non-null  float64\n",
            " 1   bedrooms       21613 non-null  int64  \n",
            " 2   bathrooms      21613 non-null  float64\n",
            " 3   sqft_living    21613 non-null  int64  \n",
            " 4   sqft_lot       21613 non-null  int64  \n",
            " 5   floors         21613 non-null  float64\n",
            " 6   waterfront     21613 non-null  int64  \n",
            " 7   view           21613 non-null  float64\n",
            " 8   condition      21613 non-null  float64\n",
            " 9   grade          21613 non-null  float64\n",
            " 10  sqft_above     21613 non-null  int64  \n",
            " 11  sqft_basement  21613 non-null  int64  \n",
            " 12  yr_built       21613 non-null  int64  \n",
            " 13  yr_renovated   21613 non-null  int64  \n",
            " 14  zipcode        21613 non-null  int64  \n",
            " 15  lat            21613 non-null  float64\n",
            " 16  long           21613 non-null  float64\n",
            " 17  sqft_living15  21613 non-null  int64  \n",
            " 18  sqft_lot15     21613 non-null  int64  \n",
            " 19  sale_year      21613 non-null  int64  \n",
            "dtypes: float64(8), int64(12)\n",
            "memory usage: 3.3 MB\n",
            "None\n",
            "\n",
            "Primeiras linhas após o tratamento da data:\n",
            "      price  bedrooms  bathrooms  sqft_living  sqft_lot  floors  waterfront  \\\n",
            "0  221900.0         3       1.00         1180      5650     1.0           0   \n",
            "1  538000.0         3       2.25         2570      7242     2.0           0   \n",
            "2  180000.0         2       1.00          770     10000     1.0           0   \n",
            "3  604000.0         4       3.00         1960      5000     1.0           0   \n",
            "4  510000.0         3       2.00         1680      8080     1.0           0   \n",
            "\n",
            "   view  condition  grade  sqft_above  sqft_basement  yr_built  yr_renovated  \\\n",
            "0   0.0        3.0    7.0        1180              0      1955             0   \n",
            "1   0.0        3.0    7.0        2170            400      1951          1991   \n",
            "2   0.0        3.0    6.0         770              0      1933             0   \n",
            "3   0.0        5.0    7.0        1050            910      1965             0   \n",
            "4   0.0        3.0    8.0        1680              0      1987             0   \n",
            "\n",
            "   zipcode      lat     long  sqft_living15  sqft_lot15  sale_year  \n",
            "0    98178  47.5112 -122.257           1340        5650       2014  \n",
            "1    98125  47.7210 -122.319           1690        7639       2014  \n",
            "2    98028  47.7379 -122.233           2720        8062       2015  \n",
            "3    98136  47.5208 -122.393           1360        5000       2014  \n",
            "4    98074  47.6168 -122.045           1800        7503       2015  \n"
          ]
        }
      ]
    },
    {
      "cell_type": "markdown",
      "source": [
        "# Preparação Final de Dados e a Criação do Modelo Baseline"
      ],
      "metadata": {
        "id": "QEhNkdWURGhe"
      }
    },
    {
      "cell_type": "code",
      "source": [
        "# 1. Definição da Variável Alvo (y) e Features (X)\n",
        "y = df_clean['price']\n",
        "X = df_clean.drop('price', axis=1)\n",
        "\n",
        "# One-Hot Encoding para 'zipcode'\n",
        "X = pd.get_dummies(X, columns=['zipcode'], drop_first=True, dtype=int)\n",
        "\n",
        "print(f\"Número inicial de features (antes do split): {X.shape[1]}\")\n",
        "\n",
        "# 2. Divisão em Conjuntos de Treino e Teste\n",
        "X_train, X_test, y_train, y_test = train_test_split(\n",
        "    X, y, test_size=0.2, random_state=42\n",
        ")\n",
        "\n",
        "# 3. Escalonamento dos Dados (CRUCIAL para o PCA)\n",
        "scaler = StandardScaler()\n",
        "\n",
        "# Fit APENAS nos dados de treino\n",
        "X_train_scaled = scaler.fit_transform(X_train)\n",
        "X_test_scaled = scaler.transform(X_test)\n",
        "\n",
        "# Convertendo para DataFrame para nomes de colunas (necessário para o PCA)\n",
        "X_train_scaled_df = pd.DataFrame(X_train_scaled, columns=X_train.columns)\n",
        "X_test_scaled_df = pd.DataFrame(X_test_scaled, columns=X_test.columns)\n",
        "\n",
        "print(f\"Dimensionalidade de Treino após One-Hot Encoding e Escalonamento: {X_train_scaled_df.shape[1]} features.\")\n",
        "\n",
        "\n",
        "# 4. Criação e Avaliação do Modelo Baseline (Sem PCA)\n",
        "print(\"\\n--- Modelo BASELINE (Sem PCA) ---\")\n",
        "\n",
        "baseline_model = LinearRegression()\n",
        "baseline_model.fit(X_train_scaled_df, y_train)\n",
        "y_pred_baseline = baseline_model.predict(X_test_scaled_df)\n",
        "\n",
        "# AVALIAÇÃO CORRIGIDA: Calculando a RMSE manualmente, sem usar 'squared=False'\n",
        "mse_baseline = mean_squared_error(y_test, y_pred_baseline)\n",
        "rmse_baseline_corrected = np.sqrt(mse_baseline)\n",
        "r2_baseline = r2_score(y_test, y_pred_baseline)\n",
        "\n",
        "print(f\"RMSE (Baseline): {rmse_baseline_corrected:,.2f}\")\n",
        "print(f\"R² Score (Baseline): {r2_baseline:.4f}\")"
      ],
      "metadata": {
        "colab": {
          "base_uri": "https://localhost:8080/"
        },
        "id": "g38xbOoqRHrK",
        "outputId": "27b96782-ed2a-4bae-cea4-c90e6408076f"
      },
      "execution_count": 7,
      "outputs": [
        {
          "output_type": "stream",
          "name": "stdout",
          "text": [
            "Número inicial de features (antes do split): 87\n",
            "Dimensionalidade de Treino após One-Hot Encoding e Escalonamento: 87 features.\n",
            "\n",
            "--- Modelo BASELINE (Sem PCA) ---\n",
            "RMSE (Baseline): 170,329.55\n",
            "R² Score (Baseline): 0.8081\n"
          ]
        }
      ]
    },
    {
      "cell_type": "markdown",
      "source": [
        "# Análise de Componentes Principais (PCA) e Interpretação"
      ],
      "metadata": {
        "id": "_LpCvE2iR2qq"
      }
    },
    {
      "cell_type": "code",
      "source": [
        "# 1. Aplicar PCA para análise de variância (n_components=None)\n",
        "pca = PCA(n_components=None)\n",
        "pca.fit(X_train_scaled_df)\n",
        "\n",
        "# 2. Interpretação dos Autovalores (Variança Explicada)\n",
        "variancia_explicada = pca.explained_variance_ratio_\n",
        "variancia_acumulada = np.cumsum(variancia_explicada)\n",
        "\n",
        "# 3. Determinar o Número Ótimo de Componentes (Retendo 95% da Variança)\n",
        "limite_variancia = 0.95\n",
        "# O + 1 é necessário pois o índice é baseado em 0\n",
        "num_componentes_otimo = np.where(variancia_acumulada >= limite_variancia)[0][0] + 1\n",
        "\n",
        "print(f\"Número total de features originais: {X_train_scaled_df.shape[1]}\")\n",
        "print(f\"Para reter {limite_variancia*100}% da variância, precisamos de {num_componentes_otimo} componentes.\")\n",
        "print(f\"Redução de Dimensionalidade (aproximada): {(1 - num_componentes_otimo / X_train_scaled_df.shape[1]) * 100:.2f}%\")\n",
        "\n",
        "\n",
        "# 4. Visualização do Scree Plot\n",
        "plt.figure(figsize=(12, 6))\n",
        "\n",
        "# Plot da Variância Acumulada\n",
        "plt.plot(range(1, len(variancia_acumulada) + 1), variancia_acumulada, marker='o', linestyle='--', color='blue', label='Variança Acumulada')\n",
        "\n",
        "# Linha de Corte (95% da Variança)\n",
        "plt.axhline(y=limite_variancia, color='r', linestyle='-', label=f'{limite_variancia*100}% de Variança')\n",
        "plt.axvline(x=num_componentes_otimo, color='r', linestyle='--', label=f'{num_componentes_otimo} Componentes')\n",
        "\n",
        "plt.title('Scree Plot: Variança Explicada Acumulada pelo Número de Componentes (PCA)')\n",
        "plt.xlabel('Número de Componentes Principais')\n",
        "plt.ylabel('Variança Explicada Acumulada')\n",
        "plt.legend()\n",
        "plt.grid(True)\n",
        "plt.show()"
      ],
      "metadata": {
        "colab": {
          "base_uri": "https://localhost:8080/",
          "height": 620
        },
        "id": "u2cWnWK6R3ew",
        "outputId": "ff08342f-258f-4e29-a415-e9c4a1e6a5c0"
      },
      "execution_count": 8,
      "outputs": [
        {
          "output_type": "stream",
          "name": "stdout",
          "text": [
            "Número total de features originais: 87\n",
            "Para reter 95.0% da variância, precisamos de 73 componentes.\n",
            "Redução de Dimensionalidade (aproximada): 16.09%\n"
          ]
        },
        {
          "output_type": "display_data",
          "data": {
            "text/plain": [
              "<Figure size 1200x600 with 1 Axes>"
            ],
            "image/png": "[encoded data removed]"
          },
          "metadata": {}
        }
      ]
    },
    {
      "cell_type": "markdown",
      "source": [
        "# Modelo Otimizado (Com PCA) e Conclusão"
      ],
      "metadata": {
        "id": "Amtez60ER99D"
      }
    },
    {
      "cell_type": "code",
      "source": [
        "# --- APLICAÇÃO DO PCA COM O NÚMERO ÓTIMO E TREINAMENTO ---\n",
        "\n",
        "# 1. Instanciar PCA com o número ideal de componentes\n",
        "pca_final = PCA(n_components=num_componentes_otimo)\n",
        "\n",
        "# Aplicar o fit (cálculo de autovetores/autovalores) APENAS no treino escalado\n",
        "X_train_pca = pca_final.fit_transform(X_train_scaled_df)\n",
        "\n",
        "# Aplicar a transformação nos dados de teste (sem fit!)\n",
        "X_test_pca = pca_final.transform(X_test_scaled_df)\n",
        "\n",
        "print(f\"Dimensionalidade Original: {X_train_scaled_df.shape[1]} features\")\n",
        "print(f\"Dimensionalidade Reduzida: {X_train_pca.shape[1]} componentes\")\n",
        "\n",
        "# 2. Criação e Avaliação do Modelo Otimizado (Com PCA)\n",
        "print(\"\\n--- Modelo OTIMIZADO (Com PCA) ---\")\n",
        "\n",
        "optimized_model = LinearRegression()\n",
        "optimized_model.fit(X_train_pca, y_train)\n",
        "y_pred_optimized = optimized_model.predict(X_test_pca)\n",
        "\n",
        "# AVALIAÇÃO: Calculando RMSE manualmente\n",
        "mse_optimized = mean_squared_error(y_test, y_pred_optimized)\n",
        "rmse_optimized = np.sqrt(mse_optimized)\n",
        "r2_optimized = r2_score(y_test, y_pred_optimized)\n",
        "\n",
        "print(f\"RMSE (Otimizado com PCA): {rmse_optimized:,.2f}\")\n",
        "print(f\"R² Score (Otimizado com PCA): {r2_optimized:.4f}\")\n",
        "\n",
        "# 3. Comparação Final\n",
        "print(\"\\n--- COMPARAÇÃO FINAL ---\")\n",
        "print(f\"RMSE (Baseline): {rmse_baseline_corrected:,.2f} | RMSE (PCA Otimizado): {rmse_optimized:,.2f}\")\n",
        "print(f\"R² (Baseline): {r2_baseline:.4f} | R² (PCA Otimizado): {r2_optimized:.4f}\")\n",
        "print(f\"Redução de Features de {X_train_scaled_df.shape[1]} para {X_train_pca.shape[1]} componentes.\")"
      ],
      "metadata": {
        "colab": {
          "base_uri": "https://localhost:8080/"
        },
        "id": "MZjG0fu8R-MS",
        "outputId": "96226948-ff41-4911-a229-01edf15fd160"
      },
      "execution_count": 9,
      "outputs": [
        {
          "output_type": "stream",
          "name": "stdout",
          "text": [
            "Dimensionalidade Original: 87 features\n",
            "Dimensionalidade Reduzida: 73 componentes\n",
            "\n",
            "--- Modelo OTIMIZADO (Com PCA) ---\n",
            "RMSE (Otimizado com PCA): 181,809.50\n",
            "R² Score (Otimizado com PCA): 0.7814\n",
            "\n",
            "--- COMPARAÇÃO FINAL ---\n",
            "RMSE (Baseline): 170,329.55 | RMSE (PCA Otimizado): 181,809.50\n",
            "R² (Baseline): 0.8081 | R² (PCA Otimizado): 0.7814\n",
            "Redução de Features de 87 para 73 componentes.\n"
          ]
        }
      ]
    },
    {
      "cell_type": "markdown",
      "metadata": {
        "id": "2d1cffdf"
      },
      "source": [
        "# Aprendizados e Insights\n",
        "\n",
        "Com base na análise realizada, podemos tirar os seguintes insights:\n",
        "\n",
        "1.  **Carregamento e Limpeza de Dados**: O processo inicial de carregar o dataset do Kaggle, remover colunas irrelevantes ('id') e tratar a coluna de data ('date') foi fundamental. A conversão da data para apenas o ano de venda simplificou o modelo sem perder informações aparentemente cruciais neste contexto.\n",
        "\n",
        "2.  **Tratamento de Variáveis Categóricas**: A decisão de aplicar One-Hot Encoding à coluna `zipcode` aumentou significativamente a dimensionalidade dos dados de 19 para 87 features. Isso reforça a importância de como variáveis categóricas com muitos valores únicos podem impactar a complexidade do modelo.\n",
        "\n",
        "3.  **Escalonamento de Dados**: O escalonamento das features usando `StandardScaler` foi crucial, especialmente antes de aplicar o PCA. O PCA é sensível à escala das variáveis, e o escalonamento garante que todas as features contribuam igualmente para o cálculo das componentes principais.\n",
        "\n",
        "4.  **Modelo Baseline (Sem PCA)**: O modelo de Regressão Linear treinado com todos as 87 features (após One-Hot Encoding e escalonamento) serviu como baseline. Ele alcançou um RMSE de aproximadamente 170,329.55 e um R² de 0.8081. Estes valores indicam que o modelo baseline já possui uma boa capacidade preditiva, explicando cerca de 80.81% da variância dos preços das casas no conjunto de teste.\n",
        "\n",
        "5.  **Análise de Componentes Principais (PCA)**: A análise da variância explicada pelo PCA mostrou que, para reter 95% da variância total dos dados originais (87 features), são necessários 73 componentes principais. Isso representa uma redução de dimensionalidade de aproximadamente 16.09%. O Scree Plot visualiza essa relação entre o número de componentes e a variância acumulada.\n",
        "\n",
        "6.  **Modelo Otimizado (Com PCA)**: O modelo de Regressão Linear treinado nos 73 componentes principais (dados transformados pelo PCA) resultou em um RMSE de aproximadamente 181,809.50 e um R² de 0.7814.\n",
        "\n",
        "7.  **Comparação e Conclusão**:\n",
        "    *   **Performance**: O modelo baseline (sem PCA) apresentou um desempenho ligeiramente superior ao modelo otimizado com PCA, tanto em termos de RMSE (menor erro) quanto de R² (maior variância explicada).\n",
        "    *   **Dimensionalidade vs. Performance**: Apesar de o PCA ter reduzido a dimensionalidade de 87 para 73 features, essa redução não se traduziu em uma melhoria na performance preditiva para este conjunto de dados e este modelo específico (Regressão Linear). Em alguns casos, a perda de informações ao reduzir a dimensionalidade pode superar os benefícios, como parece ter acontecido aqui.\n",
        "    *   **Aplicação do PCA**: Embora neste caso o PCA não tenha melhorado a performance, ele é uma técnica valiosa para:\n",
        "        *   Reduzir a dimensionalidade em datasets com muitas features correlacionadas.\n",
        "        *   Ajudar a mitigar problemas de multicolinearidade.\n",
        "        *   Reduzir o tempo de treinamento do modelo em datasets muito grandes.\n",
        "        *   Visualizar dados de alta dimensão (usando 2 ou 3 componentes).\n",
        "\n",
        "Em resumo, enquanto o PCA conseguiu reduzir o número de features, o modelo baseline utilizando todas as features originais (após One-Hot Encoding e escalonamento) demonstrou ser mais eficaz na previsão dos preços das casas neste cenário. Isso sugere que as features removidas ou combinadas pelo PCA continham informações importantes para a performance do modelo de Regressão Linear."
      ]
    }
  ]
}