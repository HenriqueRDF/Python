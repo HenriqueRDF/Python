{
  "nbformat": 4,
  "nbformat_minor": 0,
  "metadata": {
    "colab": {
      "provenance": []
    },
    "kernelspec": {
      "name": "python3",
      "display_name": "Python 3"
    },
    "language_info": {
      "name": "python"
    }
  },
  "cells": [
    {
      "cell_type": "markdown",
      "source": [
        "# EDA"
      ],
      "metadata": {
        "id": "VrUMU291z1Oe"
      }
    },
    {
      "cell_type": "code",
      "source": [
        "# Importando bibliotecas necessárias\n",
        "# ----------------------------------\n",
        "\n",
        "import pandas as pd\n",
        "import matplotlib.pyplot as plt\n",
        "import seaborn as sns"
      ],
      "metadata": {
        "id": "y_zsLk20z0Hy"
      },
      "execution_count": 2,
      "outputs": []
    },
    {
      "cell_type": "code",
      "execution_count": 5,
      "metadata": {
        "colab": {
          "base_uri": "https://localhost:8080/",
          "height": 547
        },
        "id": "3reXHPohx5Gp",
        "outputId": "424d010f-1721-4e86-d654-b33ef0568b34"
      },
      "outputs": [
        {
          "output_type": "stream",
          "name": "stdout",
          "text": [
            "Class\n",
            "0    0.998273\n",
            "1    0.001727\n",
            "Name: proportion, dtype: float64\n"
          ]
        },
        {
          "output_type": "display_data",
          "data": {
            "text/plain": [
              "<Figure size 640x480 with 1 Axes>"
            ],
            "image/png": "[encoded data removed]"
          },
          "metadata": {}
        }
      ],
      "source": [
        "df = pd.read_csv(\"creditcard.csv\")\n",
        "print(df[\"Class\"].value_counts(normalize=True)) # Proporção de fraudes\n",
        "\n",
        "# Grafícos das fraudes vs. não fraudes\n",
        "sns.countplot(x=\"Class\", data=df)\n",
        "plt.title(\"Distribuição de Fraudes (0 = Não Fraude, 1 = Fraude)\")\n",
        "plt.show()"
      ]
    },
    {
      "cell_type": "markdown",
      "source": [
        "# Pré-processamento"
      ],
      "metadata": {
        "id": "mhrU_Yv20q9y"
      }
    },
    {
      "cell_type": "code",
      "source": [
        "# Importando bibliotecas necessárias\n",
        "from sklearn.preprocessing import StandardScaler\n",
        "from imblearn.over_sampling import SMOTE\n",
        "from sklearn.model_selection import train_test_split"
      ],
      "metadata": {
        "id": "moN3Jt110qdh"
      },
      "execution_count": 13,
      "outputs": []
    },
    {
      "cell_type": "code",
      "source": [
        "# 1. Normalizar 'Amount' e 'Time'\n",
        "scaler = StandardScaler()\n",
        "df[\"Amount_scaled\"] = scaler.fit_transform(df[\"Amount\"].values.reshape(-1, 1))\n",
        "df[\"Time_scaled\"] = scaler.fit_transform(df[\"Time\"].values.reshape(-1, 1))\n",
        "\n",
        "# 2. Separar features (X) e target (y)\n",
        "X = df.drop([\"Class\", \"Time\", \"Amount\"], axis=1)\n",
        "y = df[\"Class\"]\n",
        "\n",
        "# 3. Balancear com SMOTE (cria exemplos sintéticos de fraudes)\n",
        "smote = SMOTE(random_state=42)\n",
        "X_res, y_res = smote.fit_resample(X, y)\n",
        "\n",
        "# 4. Dividir em treino e teste\n",
        "X_train, X_test, y_train, y_test = train_test_split(X_res, y_res, test_size=0.3, random_state=42)"
      ],
      "metadata": {
        "id": "KanWNyWc02uD"
      },
      "execution_count": 14,
      "outputs": []
    },
    {
      "cell_type": "markdown",
      "source": [
        "# Treiando o Modelo (XGBOOST)"
      ],
      "metadata": {
        "id": "5aNtl-KW1npf"
      }
    },
    {
      "cell_type": "code",
      "source": [
        "# Importações essenciais\n",
        "import pandas as pd\n",
        "from xgboost import XGBClassifier\n",
        "from sklearn.metrics import classification_report, confusion_matrix\n",
        "from sklearn.model_selection import train_test_split\n",
        "from imblearn.over_sampling import SMOTE\n"
      ],
      "metadata": {
        "id": "wN1UnebA2j46"
      },
      "execution_count": 17,
      "outputs": []
    },
    {
      "cell_type": "code",
      "source": [
        "# 1. Carregar dados e pré-processar\n",
        "df = pd.read_csv(\"creditcard.csv\")\n",
        "X = df.drop([\"Class\", \"Time\", \"Amount\"], axis=1)\n",
        "y = df[\"Class\"]\n",
        "\n",
        "# 2. Balancear com SMOTE\n",
        "X_res, y_res = SMOTE(random_state=42).fit_resample(X, y)\n",
        "\n",
        "# 3. Dividir treino/teste\n",
        "X_train, X_test, y_train, y_test = train_test_split(X_res, y_res, test_size=0.3, random_state=42)\n",
        "\n",
        "# 4. Treinar XGBoost\n",
        "model = XGBClassifier(\n",
        "    scale_pos_weight=len(y_res[y_res == 0]) / len(y_res[y_res == 1]),  # Peso para fraudes\n",
        "    n_estimators=100,\n",
        "    max_depth=3,\n",
        "    learning_rate=0.1,\n",
        "    random_state=42,\n",
        "    n_jobs=-1  # Usa todos os núcleos do CPU\n",
        ")\n",
        "model.fit(X_train, y_train)\n",
        "\n",
        "# 5. Avaliar\n",
        "y_pred = model.predict(X_test)\n",
        "print(classification_report(y_test, y_pred))\n",
        "print(\"\\nMatriz de Confusão:\")\n",
        "print(confusion_matrix(y_test, y_pred))"
      ],
      "metadata": {
        "colab": {
          "base_uri": "https://localhost:8080/"
        },
        "id": "d0olw-ZD1qKp",
        "outputId": "c7ab7671-9abe-4130-e363-8ee332d0cf14"
      },
      "execution_count": 18,
      "outputs": [
        {
          "output_type": "stream",
          "name": "stdout",
          "text": [
            "              precision    recall  f1-score   support\n",
            "\n",
            "           0       0.97      0.99      0.98     85149\n",
            "           1       0.99      0.97      0.98     85440\n",
            "\n",
            "    accuracy                           0.98    170589\n",
            "   macro avg       0.98      0.98      0.98    170589\n",
            "weighted avg       0.98      0.98      0.98    170589\n",
            "\n",
            "\n",
            "Matriz de Confusão:\n",
            "[[84145  1004]\n",
            " [ 2866 82574]]\n"
          ]
        }
      ]
    }
  ]
}