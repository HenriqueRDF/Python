{
  "nbformat": 4,
  "nbformat_minor": 0,
  "metadata": {
    "colab": {
      "provenance": []
    },
    "kernelspec": {
      "name": "python3",
      "display_name": "Python 3"
    },
    "language_info": {
      "name": "python"
    }
  },
  "cells": [
    {
      "cell_type": "code",
      "execution_count": 4,
      "metadata": {
        "colab": {
          "base_uri": "https://localhost:8080/"
        },
        "id": "6AxP9wEwwOaK",
        "outputId": "5e255235-fd04-406c-8ca8-1919d180b1b1"
      },
      "outputs": [
        {
          "output_type": "stream",
          "name": "stdout",
          "text": [
            "Collecting sumy\n",
            "  Downloading sumy-0.11.0-py2.py3-none-any.whl.metadata (7.5 kB)\n",
            "Collecting docopt<0.7,>=0.6.1 (from sumy)\n",
            "  Downloading docopt-0.6.2.tar.gz (25 kB)\n",
            "  Preparing metadata (setup.py) ... \u001b[?25l\u001b[?25hdone\n",
            "Collecting breadability>=0.1.20 (from sumy)\n",
            "  Downloading breadability-0.1.20.tar.gz (32 kB)\n",
            "  Preparing metadata (setup.py) ... \u001b[?25l\u001b[?25hdone\n",
            "Requirement already satisfied: requests>=2.7.0 in /usr/local/lib/python3.11/dist-packages (from sumy) (2.32.3)\n",
            "Collecting pycountry>=18.2.23 (from sumy)\n",
            "  Downloading pycountry-24.6.1-py3-none-any.whl.metadata (12 kB)\n",
            "Requirement already satisfied: nltk>=3.0.2 in /usr/local/lib/python3.11/dist-packages (from sumy) (3.9.1)\n",
            "Requirement already satisfied: chardet in /usr/local/lib/python3.11/dist-packages (from breadability>=0.1.20->sumy) (5.2.0)\n",
            "Requirement already satisfied: lxml>=2.0 in /usr/local/lib/python3.11/dist-packages (from breadability>=0.1.20->sumy) (5.3.1)\n",
            "Requirement already satisfied: click in /usr/local/lib/python3.11/dist-packages (from nltk>=3.0.2->sumy) (8.1.8)\n",
            "Requirement already satisfied: joblib in /usr/local/lib/python3.11/dist-packages (from nltk>=3.0.2->sumy) (1.4.2)\n",
            "Requirement already satisfied: regex>=2021.8.3 in /usr/local/lib/python3.11/dist-packages (from nltk>=3.0.2->sumy) (2024.11.6)\n",
            "Requirement already satisfied: tqdm in /usr/local/lib/python3.11/dist-packages (from nltk>=3.0.2->sumy) (4.67.1)\n",
            "Requirement already satisfied: charset-normalizer<4,>=2 in /usr/local/lib/python3.11/dist-packages (from requests>=2.7.0->sumy) (3.4.1)\n",
            "Requirement already satisfied: idna<4,>=2.5 in /usr/local/lib/python3.11/dist-packages (from requests>=2.7.0->sumy) (3.10)\n",
            "Requirement already satisfied: urllib3<3,>=1.21.1 in /usr/local/lib/python3.11/dist-packages (from requests>=2.7.0->sumy) (2.3.0)\n",
            "Requirement already satisfied: certifi>=2017.4.17 in /usr/local/lib/python3.11/dist-packages (from requests>=2.7.0->sumy) (2025.1.31)\n",
            "Downloading sumy-0.11.0-py2.py3-none-any.whl (97 kB)\n",
            "\u001b[2K   \u001b[90m━━━━━━━━━━━━━━━━━━━━━━━━━━━━━━━━━━━━━━━━\u001b[0m \u001b[32m97.3/97.3 kB\u001b[0m \u001b[31m8.7 MB/s\u001b[0m eta \u001b[36m0:00:00\u001b[0m\n",
            "\u001b[?25hDownloading pycountry-24.6.1-py3-none-any.whl (6.3 MB)\n",
            "\u001b[2K   \u001b[90m━━━━━━━━━━━━━━━━━━━━━━━━━━━━━━━━━━━━━━━━\u001b[0m \u001b[32m6.3/6.3 MB\u001b[0m \u001b[31m96.1 MB/s\u001b[0m eta \u001b[36m0:00:00\u001b[0m\n",
            "\u001b[?25hBuilding wheels for collected packages: breadability, docopt\n",
            "  Building wheel for breadability (setup.py) ... \u001b[?25l\u001b[?25hdone\n",
            "  Created wheel for breadability: filename=breadability-0.1.20-py2.py3-none-any.whl size=21691 sha256=270f9125ec44868df1313b58bb5f4dfb44745403b9e00f9f55c07ade559669b0\n",
            "  Stored in directory: /root/.cache/pip/wheels/4d/57/58/7e3d7fedf51fe248b7fcee3df6945ae28638e22cddf01eb92b\n",
            "  Building wheel for docopt (setup.py) ... \u001b[?25l\u001b[?25hdone\n",
            "  Created wheel for docopt: filename=docopt-0.6.2-py2.py3-none-any.whl size=13706 sha256=595aa019ac50b4187b4389884949f14254582bb6434a7f1d1a48bd69e6dc8110\n",
            "  Stored in directory: /root/.cache/pip/wheels/1a/b0/8c/4b75c4116c31f83c8f9f047231251e13cc74481cca4a78a9ce\n",
            "Successfully built breadability docopt\n",
            "Installing collected packages: docopt, pycountry, breadability, sumy\n",
            "Successfully installed breadability-0.1.20 docopt-0.6.2 pycountry-24.6.1 sumy-0.11.0\n"
          ]
        }
      ],
      "source": [
        "# Instalação de dependências\n",
        "# -------------------------\n",
        "# sumy: Biblioteca para sumarização automática de textos\n",
        "!pip install sumy"
      ]
    },
    {
      "cell_type": "code",
      "source": [
        "# Importação de bibliotecas\n",
        "# ------------------------\n",
        "import nltk\n",
        "from sumy.parsers.plaintext import PlaintextParser\n",
        "from sumy.nlp.tokenizers import Tokenizer\n",
        "from sumy.summarizers.lsa import LsaSummarizer"
      ],
      "metadata": {
        "id": "l_lktXnHwdpB"
      },
      "execution_count": 5,
      "outputs": []
    },
    {
      "cell_type": "code",
      "source": [
        "# Download de recursos do NLTK\n",
        "# ---------------------------\n",
        "# Necessário para o tokenizador em português\n",
        "nltk.download('punkt_tab')"
      ],
      "metadata": {
        "colab": {
          "base_uri": "https://localhost:8080/"
        },
        "id": "6K1eytCxzeX4",
        "outputId": "dfc8b04f-5d34-4b83-a135-b8f91e6c3006"
      },
      "execution_count": 6,
      "outputs": [
        {
          "output_type": "stream",
          "name": "stderr",
          "text": [
            "[nltk_data] Downloading package punkt_tab to /root/nltk_data...\n",
            "[nltk_data]   Unzipping tokenizers/punkt_tab.zip.\n"
          ]
        },
        {
          "output_type": "execute_result",
          "data": {
            "text/plain": [
              "True"
            ]
          },
          "metadata": {},
          "execution_count": 6
        }
      ]
    },
    {
      "cell_type": "code",
      "source": [
        "# Função de sumarização\n",
        "# ---------------------\n",
        "def resumindo(texto, num_sentencas):\n",
        "\n",
        "    #Gera um resumo automático do texto usando o método LSA (Latent Semantic Analysis).\n",
        "    #\n",
        "    #Parâmetros:\n",
        "    #    texto (str): Texto completo a ser resumido\n",
        "    #    num_sentencas (int): Número de sentenças para o resumo\n",
        "    #\n",
        "    #Retorna:\n",
        "    #    str: Texto resumido\n",
        "\n",
        "  parser = PlaintextParser.from_string(texto, Tokenizer(\"portuguese\"))\n",
        "  summarizer = LsaSummarizer()\n",
        "  sentencas_resumidas = summarizer(parser.document, num_sentencas)\n",
        "  return \"\".join([str(sentenca) for sentenca in sentencas_resumidas])\n",
        "\n",
        "# Usando\n",
        "texto_exemplo = \"\"\"A loucura ou insanidade é segundo a psicologia uma condição da mente humana caracterizada por pensamentos considerados anormais pela sociedade ou a realização de coisas sem sentido. É resultado de algum transtorno mental. A verdadeira constatação da insanidade mental de um indivíduo só pode ser feita por especialistas em psicopatologia.\n",
        "\n",
        "Algumas visões sobre loucura defendem que o sujeito não está doente da mente, mas pode simplesmente ser uma maneira diferente de ser julgado pela sociedade. Na visão da lei civil, a insanidade revoga obrigações legais e até atos cometidos contra a sociedade civil com diagnóstico prévio de psicólogos, julgados então como insanidade mental.\n",
        "\n",
        "Na profissão médica, o termo é agora evitado em favor de diagnósticos específicos de perturbações mentais, a presença de delírios ou alucinações é amplamente referida como a psicose.[1] Quando se discute a doença mental, em termos gerais, psicopatologia é considerada uma designação preferida.[2] \"\"\"\n",
        "\n",
        "num_sentencas = int(input(\"Digite o número de sentenças para o resumo: \"))\n",
        "resumo = resumindo(texto_exemplo, num_sentencas)\n",
        "print(\"\\nResumo gerado: \\n\", resumo)"
      ],
      "metadata": {
        "colab": {
          "base_uri": "https://localhost:8080/"
        },
        "id": "v3EH82h4wfcK",
        "outputId": "269b04c4-e840-494c-d2ae-55695b204e0c"
      },
      "execution_count": 8,
      "outputs": [
        {
          "output_type": "stream",
          "name": "stdout",
          "text": [
            "Digite o número de sentenças para o resumo: 10\n",
            "\n",
            "Resumo gerado: \n",
            " A loucura ou insanidade é segundo a psicologia uma condição da mente humana caracterizada por pensamentos considerados anormais pela sociedade ou a realização de coisas sem sentido.É resultado de algum transtorno mental.A verdadeira constatação da insanidade mental de um indivíduo só pode ser feita por especialistas em psicopatologia.Algumas visões sobre loucura defendem que o sujeito não está doente da mente, mas pode simplesmente ser uma maneira diferente de ser julgado pela sociedade.Na visão da lei civil, a insanidade revoga obrigações legais e até atos cometidos contra a sociedade civil com diagnóstico prévio de psicólogos, julgados então como insanidade mental.Na profissão médica, o termo é agora evitado em favor de diagnósticos específicos de perturbações mentais, a presença de delírios ou alucinações é amplamente referida como a psicose.[1] Quando se discute a doença mental, em termos gerais, psicopatologia é considerada uma designação preferida.[2]\n"
          ]
        }
      ]
    }
  ]
}