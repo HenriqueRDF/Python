{
  "nbformat": 4,
  "nbformat_minor": 0,
  "metadata": {
    "colab": {
      "provenance": []
    },
    "kernelspec": {
      "name": "python3",
      "display_name": "Python 3"
    },
    "language_info": {
      "name": "python"
    }
  },
  "cells": [
    {
      "cell_type": "code",
      "source": [
        "# Importação de bibliotecas\n",
        "# ------------------------\n",
        "import re\n",
        "import nltk\n",
        "from nltk.tokenize import word_tokenize\n",
        "from nltk.corpus import stopwords\n",
        "from nltk.probability import FreqDist\n",
        "\n",
        "# Download de recursos do NLTK\n",
        "# ---------------------------\n",
        "nltk.download('stopwords')\n",
        "nltk.download('punkt')\n",
        "nltk.download('punkt_tab')"
      ],
      "metadata": {
        "colab": {
          "base_uri": "https://localhost:8080/"
        },
        "id": "MKgje2RByL0l",
        "outputId": "054d2ac7-cb5d-4f16-f464-08d3237a088f"
      },
      "execution_count": 8,
      "outputs": [
        {
          "output_type": "stream",
          "name": "stderr",
          "text": [
            "[nltk_data] Downloading package stopwords to /root/nltk_data...\n",
            "[nltk_data]   Package stopwords is already up-to-date!\n",
            "[nltk_data] Downloading package punkt to /root/nltk_data...\n",
            "[nltk_data]   Package punkt is already up-to-date!\n",
            "[nltk_data] Downloading package punkt_tab to /root/nltk_data...\n",
            "[nltk_data]   Package punkt_tab is already up-to-date!\n"
          ]
        },
        {
          "output_type": "execute_result",
          "data": {
            "text/plain": [
              "True"
            ]
          },
          "metadata": {},
          "execution_count": 8
        }
      ]
    },
    {
      "cell_type": "code",
      "source": [
        "# Configuração do tokenizador para português\n",
        "# -----------------------------------------\n",
        "nltk.data.load('tokenizers/punkt/PY3/portuguese.pickle')\n",
        "\n",
        "# Texto de exemplo\n",
        "# ----------------\n",
        "texto = [\n",
        "    \"ótimo produto! Adorei a qualidade 😊\",\n",
        "    \"Péssima experiência. Nunca mais compro aqui! 😒\",\n",
        "    \"Entrega rápida e eficiente. Muito satisfeito!\"\n",
        "]\n",
        "\n",
        "# Função para pré-processamento\n",
        "# ------------------------------------------------------\n",
        "def preproc_texto(texto):\n",
        "    texto = texto.lower()  # Minúsculo\n",
        "    texto = re.sub(r'[^\\w\\s]', '', texto)  # Remove pontuação e emojis\n",
        "    tokens = word_tokenize(texto, language='portuguese')  # Especificar o idioma\n",
        "    stop_words = set(stopwords.words('portuguese'))\n",
        "    tokens_filtrados = [palavra for palavra in tokens if palavra not in stop_words]\n",
        "    return tokens_filtrados\n",
        "\n",
        "# Pré-processamento dos textos\n",
        "# ----------------------------\n",
        "textos_processados = [preproc_texto(frase) for frase in texto]\n",
        "\n",
        "print(\"Textos pré-processados: \", textos_processados)"
      ],
      "metadata": {
        "colab": {
          "base_uri": "https://localhost:8080/"
        },
        "id": "V28N-xf9yLil",
        "outputId": "f93c39e2-e0ea-4b8a-c86b-f1a405517e90"
      },
      "execution_count": 7,
      "outputs": [
        {
          "output_type": "stream",
          "name": "stdout",
          "text": [
            "Textos pré-processados:  [['ótimo', 'produto', 'adorei', 'qualidade'], ['péssima', 'experiência', 'nunca', 'compro', 'aqui'], ['entrega', 'rápida', 'eficiente', 'satisfeito']]\n"
          ]
        }
      ]
    },
    {
      "cell_type": "code",
      "source": [
        "# Definição de léxico de sentimentos\n",
        "# ----------------------------------\n",
        "# Listas manuais de palavras positivas/negativas\n",
        "# NOTE: Em produção, usar léxicos completos como SentiLex\n",
        "palavras_positivas = [\"ótimo\", \"adorei\",\"qualidade\",\"rápida\",\"eficiente\",\"satisfeito\"]\n",
        "palavras_negativas = [\"péssima\", \"experiência\", \"nunca\", \"compro\"]\n",
        "\n",
        "# Categorização e análise de frequência\n",
        "# -------------------------------------\n",
        "# Separa palavras por polaridade\n",
        "positivas = [palavra for frase in textos_processados for palavra in frase if palavra in palavras_positivas]\n",
        "negativas = [palavra for frase in textos_processados for palavra in frase if palavra in palavras_negativas]\n",
        "\n",
        "# Calcula frequência das palavras\n",
        "freq_positivas = FreqDist(positivas)\n",
        "freq_negativas = FreqDist(negativas)\n",
        "\n",
        "# Resultados\n",
        "# ----------\n",
        "print(\"Palavras positivas mais frequentes:\", freq_positivas.most_common(5))\n",
        "print(\"Palavras negativas mais frequentes:\", freq_negativas.most_common(5))"
      ],
      "metadata": {
        "colab": {
          "base_uri": "https://localhost:8080/"
        },
        "id": "v2XZkrHAxpDn",
        "outputId": "3b6815e0-4e21-4727-ac85-ca366317762f"
      },
      "execution_count": 9,
      "outputs": [
        {
          "output_type": "stream",
          "name": "stdout",
          "text": [
            "Palavras positivas mais frequentes: [('ótimo', 1), ('adorei', 1), ('qualidade', 1), ('rápida', 1), ('eficiente', 1)]\n",
            "Palavras negativas mais frequentes: [('péssima', 1), ('experiência', 1), ('nunca', 1), ('compro', 1)]\n"
          ]
        }
      ]
    }
  ]
}