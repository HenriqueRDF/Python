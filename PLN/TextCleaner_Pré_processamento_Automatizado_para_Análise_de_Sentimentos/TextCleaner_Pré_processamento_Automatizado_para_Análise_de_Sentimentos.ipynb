{
  "nbformat": 4,
  "nbformat_minor": 0,
  "metadata": {
    "colab": {
      "provenance": []
    },
    "kernelspec": {
      "name": "python3",
      "display_name": "Python 3"
    },
    "language_info": {
      "name": "python"
    }
  },
  "cells": [
    {
      "cell_type": "code",
      "execution_count": 5,
      "metadata": {
        "colab": {
          "base_uri": "https://localhost:8080/"
        },
        "id": "gGfg-WXPxHjs",
        "outputId": "aaae08f3-bf8c-456a-ec8b-bd5f5e30d36b"
      },
      "outputs": [
        {
          "output_type": "stream",
          "name": "stderr",
          "text": [
            "[nltk_data] Downloading package stopwords to /root/nltk_data...\n",
            "[nltk_data]   Package stopwords is already up-to-date!\n",
            "[nltk_data] Downloading package punkt to /root/nltk_data...\n",
            "[nltk_data]   Package punkt is already up-to-date!\n",
            "[nltk_data] Downloading package punkt_tab to /root/nltk_data...\n",
            "[nltk_data]   Package punkt_tab is already up-to-date!\n"
          ]
        },
        {
          "output_type": "execute_result",
          "data": {
            "text/plain": [
              "True"
            ]
          },
          "metadata": {},
          "execution_count": 5
        }
      ],
      "source": [
        "# Importação de bibliotecas\n",
        "# ------------------------\n",
        "# NLTK: Biblioteca para processamento de linguagem natural\n",
        "# re: Biblioteca para operações com expressões regulares\n",
        "import re\n",
        "import nltk\n",
        "from nltk.tokenize import word_tokenize\n",
        "from nltk.corpus import stopwords\n",
        "\n",
        "# Download dos recursos necessários do NLTK\n",
        "# -----------------------------------------\n",
        "# stopwords: Lista de palavras irrelevantes (ex: \"a\", \"o\", \"de\")\n",
        "# punkt: Tokenizador para divisão do texto em palavras\n",
        "# punkt_tab: Tokenizador para português\n",
        "nltk.download('stopwords')\n",
        "nltk.download('punkt')\n",
        "nltk.download('punkt_tab')"
      ]
    },
    {
      "cell_type": "code",
      "source": [
        "# Carrega o tokenizador em português\n",
        "# ----------------------------------\n",
        "# Necessário para garantir que o tokenizador funcione corretamente com textos em PT-BR\n",
        "nltk.data.load('tokenizers/punkt/PY3/portuguese.pickle')\n",
        "\n",
        "# Definição do texto de exemplo\n",
        "# -----------------------------\n",
        "# Lista de frases para demonstração do pré-processamento\n",
        "# Contém exemplos com emojis e pontuação para teste\n",
        "texto = [\n",
        "    \"ótimo produto! Adorei a qualidade 😊\",\n",
        "    \"Péssima experiência. Nunca mais compro aqui! 😒\",\n",
        "    \"Entrega rápida e eficiente. Muito satisfeito!\"\n",
        "]\n",
        "\n",
        "# Função de pré-processamento\n",
        "# ---------------------------\n",
        "def preproc_texto(texto):\n",
        "\n",
        "    #Realiza o pré-processamento de texto para análise de sentimentos.\n",
        "    #\n",
        "    #Etapas:\n",
        "    #1. Converte para minúsculas\n",
        "    #2. Remove pontuação e emojis\n",
        "    #3. Tokeniza o texto\n",
        "    #4. Filtra stopwords\n",
        "    #\n",
        "    #Parâmetros:\n",
        "    #   texto (str): Texto a ser processado\n",
        "\n",
        "    #Retorna:\n",
        "    #    list: Lista de tokens limpos\n",
        "\n",
        "    texto = texto.lower()  # Minúsculo\n",
        "    texto = re.sub(r'[^\\w\\s]', '', texto)  # Remove pontuação e emojis\n",
        "    tokens = word_tokenize(texto, language='portuguese')  # Especificar o idioma\n",
        "    stop_words = set(stopwords.words('portuguese'))\n",
        "    tokens_filtrados = [palavra for palavra in tokens if palavra not in stop_words]\n",
        "    return tokens_filtrados\n",
        "\n",
        "# Aplicando o pré-processamento\n",
        "textos_processados = [preproc_texto(frase) for frase in texto]\n",
        "\n",
        "print(\"Textos pré-processados: \", textos_processados)"
      ],
      "metadata": {
        "colab": {
          "base_uri": "https://localhost:8080/"
        },
        "id": "vrW7LgVlxLMT",
        "outputId": "4593570a-2286-4de6-e0ec-e4df5ec83d6d"
      },
      "execution_count": 4,
      "outputs": [
        {
          "output_type": "stream",
          "name": "stdout",
          "text": [
            "Textos pré-processados:  [['ótimo', 'produto', 'adorei', 'qualidade'], ['péssima', 'experiência', 'nunca', 'compro', 'aqui'], ['entrega', 'rápida', 'eficiente', 'satisfeito']]\n"
          ]
        }
      ]
    }
  ]
}